{
  "nbformat": 4,
  "nbformat_minor": 0,
  "metadata": {
    "colab": {
      "provenance": [],
      "gpuType": "T4",
      "authorship_tag": "ABX9TyOp/YUYs3qRzbR9cVlkmH+c",
      "include_colab_link": true
    },
    "kernelspec": {
      "name": "python3",
      "display_name": "Python 3"
    },
    "language_info": {
      "name": "python"
    },
    "accelerator": "GPU"
  },
  "cells": [
    {
      "cell_type": "markdown",
      "metadata": {
        "id": "view-in-github",
        "colab_type": "text"
      },
      "source": [
        "<a href=\"https://colab.research.google.com/github/RulerScarlett/Datacon-ML-task-3/blob/main/ML_mini_task_3.ipynb\" target=\"_parent\"><img src=\"https://colab.research.google.com/assets/colab-badge.svg\" alt=\"Open In Colab\"/></a>"
      ]
    },
    {
      "cell_type": "markdown",
      "source": [
        "**ОбУЧЕНИЕ ПРОСТЫХ МОДЕЛЕЙ РЕГРЕСИИ**\n",
        "\n",
        "\n"
      ],
      "metadata": {
        "id": "iBEiY9ZuvkVB"
      }
    },
    {
      "cell_type": "code",
      "source": [
        "import sys\n",
        "import math\n",
        "from fractions import Fraction\n",
        "from unittest.mock import patch\n",
        "import numpy as np\n",
        "import matplotlib.pyplot as plt\n",
        "import seaborn as sns\n",
        "import sklearn as sk\n",
        "import os\n",
        "import pandas as pd\n",
        "from lightgbm import LGBMRegressor\n",
        "import joblib\n",
        "\n",
        "# Исправление для numpy.float\n",
        "if not hasattr(np, 'float'):\n",
        "    np.float = float\n",
        "\n",
        "# Исправление для fractions.gcd\n",
        "sys.modules['fractions'].gcd = math.gcd\n",
        "\n",
        "\n",
        "\n",
        "\n",
        "\n",
        " # ЗАГРУЗИТЕ ДАТАСЕТ В ВИДЕ ФАЙЛА С ПРЕДЫДУЩЕГО ТАСКА\n",
        " # ДФ ДАТАСЕТА\n",
        "dataset_path = '/content/dataset.csv'\n",
        "\n",
        "\n",
        "\n",
        "df = pd.read_csv(dataset_path, sep=';', on_bad_lines='skip')\n",
        "def preparedf():\n",
        "\n",
        "  df = pd.read_csv(dataset_path, sep=';', on_bad_lines='skip')\n",
        "\n",
        "   # Логарифмируем Standard Value\n",
        "  df.iloc[:, 2] = np.log10(df.iloc[:, 2])\n",
        "  print(df.iloc[:, 2])\n",
        "\n",
        "\n",
        "   # Стандартизация\n",
        "  df = df.drop(columns = df.columns[:2])\n",
        "  df = df.astype(np.float32)\n",
        "  print(df.dtypes)\n",
        "  df = df.select_dtypes(include=[np.number])\n",
        "  indexes=[]\n",
        "  for index, row in df.iterrows():\n",
        "    if (np.isnan(df['Standard Value'][index]) or np.isinf(df['Standard Value'][index])):\n",
        "      indexes.append(index)\n",
        "  df = df.drop(indexes, axis=0)\n",
        "  print(df)\n",
        "  df = df\n",
        "  return df\n",
        "dfs = preparedf()\n",
        "\n",
        "\n",
        " # Делаем обучающую выборку, одинаково для всех моделей\n",
        "def make_train():\n",
        "  df = dfs\n",
        "\n",
        "   # x - все столбцы с дескрипторами\n",
        "   # y - только столбец значений IC50\n",
        "  x = df.drop(columns = ['Standard Value'])\n",
        "  y = df['Standard Value']\n",
        "  print(\"Number of NaN values in y:\", df['Standard Value'].isna().sum())\n",
        "\n",
        "  bins = pd.qcut(y, q=10, duplicates=\"drop\", labels=False)\n",
        "  x_train, x_test, y_train, y_test = sk.model_selection.train_test_split(\n",
        "    x, y,\n",
        "    test_size=0.2,\n",
        "    random_state=42,\n",
        "    stratify=bins\n",
        "  )\n",
        "  print(\"Train:\", x_train.shape, \" Test:\", x_test.shape)\n",
        "  return x_train, x_test, y_train, y_test\n",
        "make_train()\n",
        "\n",
        "\n",
        "\n",
        "\n",
        "\n",
        "seed=42"
      ],
      "metadata": {
        "id": "7bHwECEClHR0",
        "colab": {
          "base_uri": "https://localhost:8080/"
        },
        "outputId": "faa19401-4a99-4058-e1e1-47863b50be40",
        "collapsed": true
      },
      "execution_count": 2,
      "outputs": [
        {
          "output_type": "stream",
          "name": "stderr",
          "text": [
            "/usr/local/lib/python3.11/dist-packages/pandas/core/arraylike.py:399: RuntimeWarning: divide by zero encountered in log10\n",
            "  result = getattr(ufunc, method)(*inputs, **kwargs)\n"
          ]
        },
        {
          "output_type": "stream",
          "name": "stdout",
          "text": [
            "0       1.602060\n",
            "1       3.230449\n",
            "2       1.698970\n",
            "3       3.653213\n",
            "4       2.278754\n",
            "          ...   \n",
            "4170    5.112940\n",
            "4171    1.000000\n",
            "4172    4.167317\n",
            "4173    3.876795\n",
            "4174    2.944483\n",
            "Name: Standard Value, Length: 4175, dtype: float64\n",
            "Standard Value    float32\n",
            "ABC               float32\n",
            "nAcid             float32\n",
            "nBase             float32\n",
            "nAromAtom         float32\n",
            "                   ...   \n",
            "n10FaRing         float32\n",
            "nFARing           float32\n",
            "n9FARing          float32\n",
            "n10FARing         float32\n",
            "TopoShapeIndex    float32\n",
            "Length: 163, dtype: object\n",
            "      Standard Value        ABC  nAcid  nBase  nAromAtom  nSpiro  nBridgehead  \\\n",
            "0           1.602060  19.751326    0.0    0.0        6.0     0.0          0.0   \n",
            "1           3.230449  19.495098    0.0    0.0       18.0     0.0          0.0   \n",
            "2           1.698970  22.074789    0.0    0.0       15.0     0.0          0.0   \n",
            "3           3.653213  17.848785    0.0    0.0        6.0     0.0          0.0   \n",
            "4           2.278754  31.554907    0.0    0.0       21.0     0.0          0.0   \n",
            "...              ...        ...    ...    ...        ...     ...          ...   \n",
            "4170        5.112940   9.589507    1.0    0.0        6.0     0.0          0.0   \n",
            "4171        1.000000  22.293568    1.0    0.0       15.0     0.0          0.0   \n",
            "4172        4.167317  21.776731    0.0    0.0       12.0     0.0          0.0   \n",
            "4173        3.876795   8.134853    1.0    0.0        6.0     0.0          0.0   \n",
            "4174        2.944483  13.710828    1.0    0.0       12.0     0.0          0.0   \n",
            "\n",
            "       nN   nS   nP  ...  nFRing  n8FRing  n9FRing  n10FRing  nG12FRing  \\\n",
            "0     0.0  1.0  0.0  ...     0.0      0.0      0.0       0.0        0.0   \n",
            "1     2.0  1.0  0.0  ...     0.0      0.0      0.0       0.0        0.0   \n",
            "2     1.0  0.0  0.0  ...     1.0      0.0      1.0       0.0        0.0   \n",
            "3     0.0  0.0  0.0  ...     1.0      0.0      1.0       0.0        0.0   \n",
            "4     3.0  0.0  0.0  ...     1.0      0.0      1.0       0.0        0.0   \n",
            "...   ...  ...  ...  ...     ...      ...      ...       ...        ...   \n",
            "4170  0.0  0.0  0.0  ...     0.0      0.0      0.0       0.0        0.0   \n",
            "4171  1.0  0.0  0.0  ...     1.0      0.0      1.0       0.0        0.0   \n",
            "4172  0.0  0.0  0.0  ...     0.0      0.0      0.0       0.0        0.0   \n",
            "4173  1.0  0.0  0.0  ...     0.0      0.0      0.0       0.0        0.0   \n",
            "4174  1.0  0.0  0.0  ...     0.0      0.0      0.0       0.0        0.0   \n",
            "\n",
            "      n10FaRing  nFARing  n9FARing  n10FARing  TopoShapeIndex  \n",
            "0           0.0      0.0       0.0        0.0        1.000000  \n",
            "1           0.0      0.0       0.0        0.0        0.857143  \n",
            "2           0.0      0.0       0.0        0.0        0.875000  \n",
            "3           0.0      1.0       1.0        0.0        1.000000  \n",
            "4           0.0      0.0       0.0        0.0        0.916667  \n",
            "...         ...      ...       ...        ...             ...  \n",
            "4170        0.0      0.0       0.0        0.0        1.000000  \n",
            "4171        0.0      0.0       0.0        0.0        1.000000  \n",
            "4172        0.0      0.0       0.0        0.0        0.857143  \n",
            "4173        0.0      0.0       0.0        0.0        0.666667  \n",
            "4174        0.0      0.0       0.0        0.0        1.000000  \n",
            "\n",
            "[4168 rows x 163 columns]\n",
            "Number of NaN values in y: 0\n",
            "Train: (3334, 162)  Test: (834, 162)\n"
          ]
        },
        {
          "output_type": "execute_result",
          "data": {
            "text/plain": [
              "(            ABC  nAcid  nBase  nAromAtom  nSpiro  nBridgehead   nN   nS   nP  \\\n",
              " 2073  17.373779    0.0    0.0       17.0     0.0          0.0  0.0  2.0  0.0   \n",
              " 1140  18.787992    0.0    0.0       17.0     0.0          0.0  2.0  1.0  0.0   \n",
              " 1462  17.815569    0.0    0.0       17.0     0.0          0.0  6.0  0.0  0.0   \n",
              " 2980  14.199155    0.0    0.0       16.0     0.0          0.0  1.0  0.0  0.0   \n",
              " 2563  29.145857    0.0    1.0       21.0     0.0          0.0  7.0  0.0  0.0   \n",
              " ...         ...    ...    ...        ...     ...          ...  ...  ...  ...   \n",
              " 3802  22.392475    0.0    0.0       21.0     0.0          0.0  1.0  1.0  0.0   \n",
              " 1651  21.904148    1.0    0.0       18.0     0.0          0.0  0.0  1.0  0.0   \n",
              " 1166  18.360916    0.0    0.0       11.0     0.0          0.0  4.0  0.0  0.0   \n",
              " 3254  21.884518    0.0    0.0       11.0     0.0          0.0  4.0  1.0  0.0   \n",
              " 1415  19.027941    0.0    0.0       12.0     0.0          0.0  2.0  2.0  0.0   \n",
              " \n",
              "        nF  ...  nFRing  n8FRing  n9FRing  n10FRing  nG12FRing  n10FaRing  \\\n",
              " 2073  1.0  ...     0.0      0.0      0.0       0.0        0.0        0.0   \n",
              " 1140  0.0  ...     0.0      0.0      0.0       0.0        0.0        0.0   \n",
              " 1462  0.0  ...     0.0      0.0      0.0       0.0        0.0        0.0   \n",
              " 2980  0.0  ...     0.0      0.0      0.0       0.0        0.0        0.0   \n",
              " 2563  0.0  ...     1.0      0.0      1.0       0.0        0.0        0.0   \n",
              " ...   ...  ...     ...      ...      ...       ...        ...        ...   \n",
              " 3802  1.0  ...     1.0      0.0      1.0       0.0        0.0        0.0   \n",
              " 1651  0.0  ...     0.0      0.0      0.0       0.0        0.0        0.0   \n",
              " 1166  0.0  ...     1.0      1.0      0.0       0.0        0.0        0.0   \n",
              " 3254  0.0  ...     1.0      1.0      0.0       0.0        0.0        0.0   \n",
              " 1415  0.0  ...     1.0      0.0      1.0       0.0        0.0        0.0   \n",
              " \n",
              "       nFARing  n9FARing  n10FARing  TopoShapeIndex  \n",
              " 2073      0.0       0.0        0.0        1.000000  \n",
              " 1140      0.0       0.0        0.0        1.000000  \n",
              " 1462      0.0       0.0        0.0        0.875000  \n",
              " 2980      0.0       0.0        0.0        0.800000  \n",
              " 2563      0.0       0.0        0.0        0.900000  \n",
              " ...       ...       ...        ...             ...  \n",
              " 3802      0.0       0.0        0.0        0.857143  \n",
              " 1651      0.0       0.0        0.0        1.000000  \n",
              " 1166      1.0       0.0        0.0        1.000000  \n",
              " 3254      1.0       0.0        0.0        1.000000  \n",
              " 1415      1.0       1.0        0.0        1.000000  \n",
              " \n",
              " [3334 rows x 162 columns],\n",
              "             ABC  nAcid  nBase  nAromAtom  nSpiro  nBridgehead   nN   nS   nP  \\\n",
              " 1933  20.643995    0.0    2.0       17.0     0.0          0.0  4.0  2.0  0.0   \n",
              " 2022  20.522676    0.0    0.0       22.0     0.0          0.0  2.0  2.0  0.0   \n",
              " 416   17.184601    0.0    0.0       12.0     0.0          0.0  0.0  0.0  0.0   \n",
              " 1742  21.197042    0.0    0.0       18.0     0.0          0.0  0.0  1.0  0.0   \n",
              " 2744  19.454659    0.0    0.0       18.0     0.0          0.0  0.0  1.0  0.0   \n",
              " ...         ...    ...    ...        ...     ...          ...  ...  ...  ...   \n",
              " 2737  21.006771    0.0    0.0       18.0     0.0          0.0  0.0  1.0  0.0   \n",
              " 310   31.864893    0.0    0.0       34.0     0.0          0.0  4.0  0.0  0.0   \n",
              " 2332  23.697300    0.0    0.0       17.0     0.0          0.0  5.0  1.0  0.0   \n",
              " 1198  24.473356    0.0    0.0       24.0     0.0          0.0  2.0  1.0  0.0   \n",
              " 1247  23.569883    1.0    0.0       18.0     0.0          0.0  0.0  0.0  0.0   \n",
              " \n",
              "        nF  ...  nFRing  n8FRing  n9FRing  n10FRing  nG12FRing  n10FaRing  \\\n",
              " 1933  0.0  ...     0.0      0.0      0.0       0.0        0.0        0.0   \n",
              " 2022  0.0  ...     0.0      0.0      0.0       0.0        0.0        0.0   \n",
              " 416   0.0  ...     0.0      0.0      0.0       0.0        0.0        0.0   \n",
              " 1742  0.0  ...     0.0      0.0      0.0       0.0        0.0        0.0   \n",
              " 2744  0.0  ...     0.0      0.0      0.0       0.0        0.0        0.0   \n",
              " ...   ...  ...     ...      ...      ...       ...        ...        ...   \n",
              " 2737  2.0  ...     0.0      0.0      0.0       0.0        0.0        0.0   \n",
              " 310   0.0  ...     0.0      0.0      0.0       0.0        0.0        0.0   \n",
              " 2332  0.0  ...     0.0      0.0      0.0       0.0        0.0        0.0   \n",
              " 1198  1.0  ...     0.0      0.0      0.0       0.0        0.0        0.0   \n",
              " 1247  1.0  ...     1.0      0.0      1.0       0.0        0.0        0.0   \n",
              " \n",
              "       nFARing  n9FARing  n10FARing  TopoShapeIndex  \n",
              " 1933      0.0       0.0        0.0        1.000000  \n",
              " 2022      0.0       0.0        0.0        1.000000  \n",
              " 416       0.0       0.0        0.0        0.833333  \n",
              " 1742      0.0       0.0        0.0        0.857143  \n",
              " 2744      0.0       0.0        0.0        0.833333  \n",
              " ...       ...       ...        ...             ...  \n",
              " 2737      0.0       0.0        0.0        0.857143  \n",
              " 310       0.0       0.0        0.0        0.900000  \n",
              " 2332      0.0       0.0        0.0        1.000000  \n",
              " 1198      0.0       0.0        0.0        1.000000  \n",
              " 1247      1.0       1.0        0.0        0.875000  \n",
              " \n",
              " [834 rows x 162 columns],\n",
              " 2073    2.672098\n",
              " 1140    3.921686\n",
              " 1462    1.612784\n",
              " 2980    4.531479\n",
              " 2563    1.477121\n",
              "           ...   \n",
              " 3802    2.176091\n",
              " 1651    4.000000\n",
              " 1166    4.014101\n",
              " 3254    3.060698\n",
              " 1415    2.079181\n",
              " Name: Standard Value, Length: 3334, dtype: float32,\n",
              " 1933    1.929419\n",
              " 2022    1.954242\n",
              " 416     3.477121\n",
              " 1742    3.529000\n",
              " 2744    2.799340\n",
              "           ...   \n",
              " 2737    1.279895\n",
              " 310     3.445604\n",
              " 2332    2.819544\n",
              " 1198    1.755875\n",
              " 1247    5.456518\n",
              " Name: Standard Value, Length: 834, dtype: float32)"
            ]
          },
          "metadata": {},
          "execution_count": 2
        }
      ]
    },
    {
      "cell_type": "code",
      "source": [
        "dfs = preparedf()\n",
        "print(dfs)"
      ],
      "metadata": {
        "id": "VQw2_Qo0hzhT",
        "colab": {
          "base_uri": "https://localhost:8080/"
        },
        "outputId": "6f458c27-c597-45ce-aa2b-0a0e70fa7e27",
        "collapsed": true
      },
      "execution_count": 3,
      "outputs": [
        {
          "output_type": "stream",
          "name": "stderr",
          "text": [
            "/usr/local/lib/python3.11/dist-packages/pandas/core/arraylike.py:399: RuntimeWarning: divide by zero encountered in log10\n",
            "  result = getattr(ufunc, method)(*inputs, **kwargs)\n"
          ]
        },
        {
          "output_type": "stream",
          "name": "stdout",
          "text": [
            "0       1.602060\n",
            "1       3.230449\n",
            "2       1.698970\n",
            "3       3.653213\n",
            "4       2.278754\n",
            "          ...   \n",
            "4170    5.112940\n",
            "4171    1.000000\n",
            "4172    4.167317\n",
            "4173    3.876795\n",
            "4174    2.944483\n",
            "Name: Standard Value, Length: 4175, dtype: float64\n",
            "Standard Value    float32\n",
            "ABC               float32\n",
            "nAcid             float32\n",
            "nBase             float32\n",
            "nAromAtom         float32\n",
            "                   ...   \n",
            "n10FaRing         float32\n",
            "nFARing           float32\n",
            "n9FARing          float32\n",
            "n10FARing         float32\n",
            "TopoShapeIndex    float32\n",
            "Length: 163, dtype: object\n",
            "      Standard Value        ABC  nAcid  nBase  nAromAtom  nSpiro  nBridgehead  \\\n",
            "0           1.602060  19.751326    0.0    0.0        6.0     0.0          0.0   \n",
            "1           3.230449  19.495098    0.0    0.0       18.0     0.0          0.0   \n",
            "2           1.698970  22.074789    0.0    0.0       15.0     0.0          0.0   \n",
            "3           3.653213  17.848785    0.0    0.0        6.0     0.0          0.0   \n",
            "4           2.278754  31.554907    0.0    0.0       21.0     0.0          0.0   \n",
            "...              ...        ...    ...    ...        ...     ...          ...   \n",
            "4170        5.112940   9.589507    1.0    0.0        6.0     0.0          0.0   \n",
            "4171        1.000000  22.293568    1.0    0.0       15.0     0.0          0.0   \n",
            "4172        4.167317  21.776731    0.0    0.0       12.0     0.0          0.0   \n",
            "4173        3.876795   8.134853    1.0    0.0        6.0     0.0          0.0   \n",
            "4174        2.944483  13.710828    1.0    0.0       12.0     0.0          0.0   \n",
            "\n",
            "       nN   nS   nP  ...  nFRing  n8FRing  n9FRing  n10FRing  nG12FRing  \\\n",
            "0     0.0  1.0  0.0  ...     0.0      0.0      0.0       0.0        0.0   \n",
            "1     2.0  1.0  0.0  ...     0.0      0.0      0.0       0.0        0.0   \n",
            "2     1.0  0.0  0.0  ...     1.0      0.0      1.0       0.0        0.0   \n",
            "3     0.0  0.0  0.0  ...     1.0      0.0      1.0       0.0        0.0   \n",
            "4     3.0  0.0  0.0  ...     1.0      0.0      1.0       0.0        0.0   \n",
            "...   ...  ...  ...  ...     ...      ...      ...       ...        ...   \n",
            "4170  0.0  0.0  0.0  ...     0.0      0.0      0.0       0.0        0.0   \n",
            "4171  1.0  0.0  0.0  ...     1.0      0.0      1.0       0.0        0.0   \n",
            "4172  0.0  0.0  0.0  ...     0.0      0.0      0.0       0.0        0.0   \n",
            "4173  1.0  0.0  0.0  ...     0.0      0.0      0.0       0.0        0.0   \n",
            "4174  1.0  0.0  0.0  ...     0.0      0.0      0.0       0.0        0.0   \n",
            "\n",
            "      n10FaRing  nFARing  n9FARing  n10FARing  TopoShapeIndex  \n",
            "0           0.0      0.0       0.0        0.0        1.000000  \n",
            "1           0.0      0.0       0.0        0.0        0.857143  \n",
            "2           0.0      0.0       0.0        0.0        0.875000  \n",
            "3           0.0      1.0       1.0        0.0        1.000000  \n",
            "4           0.0      0.0       0.0        0.0        0.916667  \n",
            "...         ...      ...       ...        ...             ...  \n",
            "4170        0.0      0.0       0.0        0.0        1.000000  \n",
            "4171        0.0      0.0       0.0        0.0        1.000000  \n",
            "4172        0.0      0.0       0.0        0.0        0.857143  \n",
            "4173        0.0      0.0       0.0        0.0        0.666667  \n",
            "4174        0.0      0.0       0.0        0.0        1.000000  \n",
            "\n",
            "[4168 rows x 163 columns]\n",
            "      Standard Value        ABC  nAcid  nBase  nAromAtom  nSpiro  nBridgehead  \\\n",
            "0           1.602060  19.751326    0.0    0.0        6.0     0.0          0.0   \n",
            "1           3.230449  19.495098    0.0    0.0       18.0     0.0          0.0   \n",
            "2           1.698970  22.074789    0.0    0.0       15.0     0.0          0.0   \n",
            "3           3.653213  17.848785    0.0    0.0        6.0     0.0          0.0   \n",
            "4           2.278754  31.554907    0.0    0.0       21.0     0.0          0.0   \n",
            "...              ...        ...    ...    ...        ...     ...          ...   \n",
            "4170        5.112940   9.589507    1.0    0.0        6.0     0.0          0.0   \n",
            "4171        1.000000  22.293568    1.0    0.0       15.0     0.0          0.0   \n",
            "4172        4.167317  21.776731    0.0    0.0       12.0     0.0          0.0   \n",
            "4173        3.876795   8.134853    1.0    0.0        6.0     0.0          0.0   \n",
            "4174        2.944483  13.710828    1.0    0.0       12.0     0.0          0.0   \n",
            "\n",
            "       nN   nS   nP  ...  nFRing  n8FRing  n9FRing  n10FRing  nG12FRing  \\\n",
            "0     0.0  1.0  0.0  ...     0.0      0.0      0.0       0.0        0.0   \n",
            "1     2.0  1.0  0.0  ...     0.0      0.0      0.0       0.0        0.0   \n",
            "2     1.0  0.0  0.0  ...     1.0      0.0      1.0       0.0        0.0   \n",
            "3     0.0  0.0  0.0  ...     1.0      0.0      1.0       0.0        0.0   \n",
            "4     3.0  0.0  0.0  ...     1.0      0.0      1.0       0.0        0.0   \n",
            "...   ...  ...  ...  ...     ...      ...      ...       ...        ...   \n",
            "4170  0.0  0.0  0.0  ...     0.0      0.0      0.0       0.0        0.0   \n",
            "4171  1.0  0.0  0.0  ...     1.0      0.0      1.0       0.0        0.0   \n",
            "4172  0.0  0.0  0.0  ...     0.0      0.0      0.0       0.0        0.0   \n",
            "4173  1.0  0.0  0.0  ...     0.0      0.0      0.0       0.0        0.0   \n",
            "4174  1.0  0.0  0.0  ...     0.0      0.0      0.0       0.0        0.0   \n",
            "\n",
            "      n10FaRing  nFARing  n9FARing  n10FARing  TopoShapeIndex  \n",
            "0           0.0      0.0       0.0        0.0        1.000000  \n",
            "1           0.0      0.0       0.0        0.0        0.857143  \n",
            "2           0.0      0.0       0.0        0.0        0.875000  \n",
            "3           0.0      1.0       1.0        0.0        1.000000  \n",
            "4           0.0      0.0       0.0        0.0        0.916667  \n",
            "...         ...      ...       ...        ...             ...  \n",
            "4170        0.0      0.0       0.0        0.0        1.000000  \n",
            "4171        0.0      0.0       0.0        0.0        1.000000  \n",
            "4172        0.0      0.0       0.0        0.0        0.857143  \n",
            "4173        0.0      0.0       0.0        0.0        0.666667  \n",
            "4174        0.0      0.0       0.0        0.0        1.000000  \n",
            "\n",
            "[4168 rows x 163 columns]\n"
          ]
        }
      ]
    },
    {
      "cell_type": "code",
      "source": [
        "x_train, x_test, y_train, y_test = make_train()"
      ],
      "metadata": {
        "id": "a54RlecQs-Cy",
        "colab": {
          "base_uri": "https://localhost:8080/"
        },
        "outputId": "6ab89674-6529-4de9-d8ca-959aa8ce0807"
      },
      "execution_count": 4,
      "outputs": [
        {
          "output_type": "stream",
          "name": "stdout",
          "text": [
            "Number of NaN values in y: 0\n",
            "Train: (3334, 162)  Test: (834, 162)\n"
          ]
        }
      ]
    },
    {
      "cell_type": "code",
      "source": [
        "from sklearn.ensemble import RandomForestRegressor\n",
        "\n",
        " # RandomForestRegressor из scikit-learn\n",
        "forest = RandomForestRegressor(random_state=seed)\n",
        "forest.fit(x_train, y_train)\n",
        "\n",
        "y_pred = forest.predict(x_test)\n",
        "\n",
        "mae = sk.metrics.mean_absolute_error(y_test, forest.predict(x_test))\n",
        "r2  = sk.metrics.r2_score(y_test, forest.predict(x_test))\n",
        "\n",
        "print(f\"forest MAE: {mae:.4f}\")\n",
        "print(f\"forest R2 : {r2:.4f}\")"
      ],
      "metadata": {
        "id": "hz0b2MbzBAh5",
        "colab": {
          "base_uri": "https://localhost:8080/"
        },
        "outputId": "b296d629-9087-4388-f0c9-730cd475328d"
      },
      "execution_count": 5,
      "outputs": [
        {
          "output_type": "stream",
          "name": "stdout",
          "text": [
            "forest MAE: 0.6347\n",
            "forest R2 : 0.4936\n"
          ]
        }
      ]
    },
    {
      "cell_type": "code",
      "source": [
        "from sklearn.ensemble import GradientBoostingRegressor\n",
        "\n",
        "\n",
        " # XGradientBoost из scikit-learn\n",
        "XGboost = GradientBoostingRegressor(random_state=seed, learning_rate=0.01, n_estimators=1000, max_depth=6)\n",
        "XGboost.fit(x_train, y_train)\n",
        "XGboost.score(x_test, y_test)\n",
        "\n",
        "y_pred = XGboost.predict(x_test)\n",
        "\n",
        "mae = sk.metrics.mean_absolute_error(y_test, XGboost.predict(x_test))\n",
        "r2  = sk.metrics.r2_score(y_test, XGboost.predict(x_test))\n",
        "\n",
        "print(f\"XGboost MAE: {mae:.4f}\")\n",
        "print(f\"XGboost R2 : {r2:.4f}\")"
      ],
      "metadata": {
        "id": "YXceJibCHq_g"
      },
      "execution_count": null,
      "outputs": []
    },
    {
      "cell_type": "code",
      "source": [
        "!pip install torch\n",
        "!pip install pytorch_lightning"
      ],
      "metadata": {
        "id": "dfnNf-teRgw_"
      },
      "execution_count": null,
      "outputs": []
    },
    {
      "cell_type": "code",
      "source": [
        "# Формирование нейросети MLP (4 скрытых слоя и дропауты)\n",
        "import torch\n",
        "from pytorch_lightning import seed_everything\n",
        "import torch.nn as nn\n",
        "from torch.utils.data import TensorDataset, DataLoader\n",
        "import torch.optim as optim\n",
        "from tqdm import tqdm\n",
        "import matplotlib.pyplot as plt\n",
        "import os\n",
        "#os.environ['CUDA_LAUNCH_BLOCKING'] = '1'\n",
        "\n",
        "seed_everything(seed)\n",
        "\n",
        "\n",
        "class DeepMLP(nn.Module):\n",
        "    def __init__(self, in_size, hid_size, out_size, dropout = 0.5):\n",
        "        super().__init__()\n",
        "        self.net = nn.Sequential(nn.Linear(in_size, hid_size),\n",
        "                                 nn.Tanh(),\n",
        "                                 nn.Dropout(dropout),\n",
        "                                 nn.LayerNorm(hid_size),\n",
        "\n",
        "                                 nn.Linear(hid_size, hid_size // 2),\n",
        "                                 nn.Tanh(),\n",
        "                                 nn.Dropout(dropout),\n",
        "                                 nn.LayerNorm(hid_size // 2),\n",
        "\n",
        "                                 nn.Linear(hid_size // 2, hid_size // 4),\n",
        "                                 nn.Tanh(),\n",
        "                                 nn.Dropout(dropout),\n",
        "                                 nn.LayerNorm(hid_size // 4),\n",
        "\n",
        "                                 nn.Linear(hid_size // 4, hid_size // 8),\n",
        "                                 nn.Tanh(),\n",
        "                                 nn.Dropout(dropout),\n",
        "                                 nn.LayerNorm(hid_size // 8),\n",
        "\n",
        "                                 nn.Linear(hid_size // 8, hid_size // 16),\n",
        "                                 nn.Tanh(),\n",
        "                                 nn.Dropout(dropout),\n",
        "                                 nn.LayerNorm(hid_size // 16),\n",
        "\n",
        "                                 nn.Linear(hid_size // 16, out_size))\n",
        "    def forward(self, x):\n",
        "        return self.net(x)\n",
        "\n",
        "\n",
        "#print(x_train.shape[1])\n",
        "device = torch.device('cuda')\n",
        "model = DeepMLP(in_size = x_train.shape[1], hid_size = 162, out_size = 1).to('cpu')\n",
        "\n",
        "#x_train = np.array(x_train)\n",
        "#y_train = np.array(y_train)\n",
        "x_train_tensor = torch.tensor(x_train.values, dtype=torch.float32).to('cpu')\n",
        "y_train_tensor = torch.tensor(y_train.values).to('cpu')  # For pandas Series\n",
        "\n",
        "x_test_tensor = torch.tensor(x_test.values, dtype = torch.float32).to('cpu')\n",
        "y_test_tensor = torch.tensor(y_test.values).to('cpu')\n",
        "x_test_tensor = torch.tensor(x_test.values, dtype = torch.float32).to('cpu')\n",
        "y_test_tensor = torch.tensor(y_test.values).to('cpu')\n",
        "\n",
        "#print(x_train_tensor.shape[0])\n",
        "#print(x_test_tensor.shape[0])\n",
        "\n",
        "train_dataset = TensorDataset(x_train_tensor, y_train_tensor)\n",
        "test_dataset = TensorDataset(x_test_tensor, y_test_tensor)\n",
        "\n",
        "\n",
        "#sz = 16\n",
        "train_loaded = DataLoader(train_dataset, shuffle = True, num_workers = 2, pin_memory = True)\n",
        "test_loaded = DataLoader(test_dataset, shuffle = True, num_workers = 2, pin_memory = True)\n",
        "\n",
        "criterion = nn.MSELoss()  # MSE для регрессии\n",
        "optimizer = optim.Adam(model.parameters(), lr=0.0001)\n",
        "\n",
        "history = {'train_loss': [], 'val_loss': [], 'mae' : []}\n",
        "best_val_acc = 0.0\n",
        "\n",
        "num_epochs = 20\n",
        "best_loss = np.inf\n",
        "for epoch in range(num_epochs):\n",
        "    model.train()\n",
        "    running_loss = 0.0\n",
        "    correct = 0\n",
        "    total = 0\n",
        "\n",
        "    for inputs, labels in tqdm(train_loaded, desc=f'Epoch {epoch+1}'):\n",
        "        inputs = inputs.to('cpu')\n",
        "        labels = labels.float().to('cpu')  # Метки как float для регрессии\n",
        "\n",
        "        optimizer.zero_grad()\n",
        "        outputs = model(inputs)\n",
        "        loss = criterion(outputs, labels)\n",
        "        loss.backward()\n",
        "        optimizer.step()\n",
        "\n",
        "        running_loss += loss.item()\n",
        "\n",
        "    train_loss = running_loss / len(train_loaded)\n",
        "\n",
        "    # Валидация\n",
        "    model.eval()\n",
        "    val_loss = 0.0\n",
        "    total_mae = 0.0\n",
        "\n",
        "    with torch.no_grad():\n",
        "        for inputs, labels in test_loaded:\n",
        "            inputs = inputs.to('cpu')\n",
        "            labels = labels.float().to('cpu')\n",
        "\n",
        "            outputs = model(inputs)\n",
        "            val_loss += criterion(outputs, labels).item()\n",
        "            total_mae += torch.abs(outputs - labels).sum().item()\n",
        "\n",
        "    val_loss /= len(test_loaded)\n",
        "    mae = total_mae / len(test_loaded.dataset)  # Средняя абсолютная ошибка\n",
        "\n",
        "    # Логирование\n",
        "    history['train_loss'].append(train_loss)\n",
        "    history['val_loss'].append(val_loss)\n",
        "    history['mae'].append(mae)\n",
        "    '''\n",
        "    # Сохранение лучшей модели\n",
        "    if val_loss < best_loss:\n",
        "        best_loss = val_loss\n",
        "        torch.save(model.state_dict(), 'best_regressor.pth')\n",
        "'''\n",
        "\n",
        "plt.figure(figsize=(12, 5))\n",
        "plt.subplot(1, 2, 1)\n",
        "plt.plot(history['train_loss'], label='Train MSE')\n",
        "plt.plot(history['val_loss'], label='Val MSE')\n",
        "plt.legend()\n",
        "plt.title('MSE Loss')\n",
        "\n",
        "plt.subplot(1, 2, 2)\n",
        "plt.plot(history['mae'], color='red', label='MAE')\n",
        "plt.legend()\n",
        "plt.title('Mean Absolute Error')\n",
        "\n",
        "plt.show()"
      ],
      "metadata": {
        "colab": {
          "base_uri": "https://localhost:8080/",
          "height": 887
        },
        "id": "ng1rhQ9TSfqn",
        "outputId": "050fec5f-1558-4760-85db-a2b9a039ae83"
      },
      "execution_count": 8,
      "outputs": [
        {
          "output_type": "stream",
          "name": "stderr",
          "text": [
            "INFO:lightning_fabric.utilities.seed:Seed set to 42\n",
            "Epoch 1:   0%|          | 0/3334 [00:00<?, ?it/s]/usr/local/lib/python3.11/dist-packages/torch/nn/modules/loss.py:610: UserWarning: Using a target size (torch.Size([1])) that is different to the input size (torch.Size([1, 1])). This will likely lead to incorrect results due to broadcasting. Please ensure they have the same size.\n",
            "  return F.mse_loss(input, target, reduction=self.reduction)\n",
            "Epoch 1: 100%|██████████| 3334/3334 [00:14<00:00, 236.72it/s]\n",
            "Epoch 2: 100%|██████████| 3334/3334 [00:14<00:00, 236.71it/s]\n",
            "Epoch 3: 100%|██████████| 3334/3334 [00:14<00:00, 230.66it/s]\n",
            "Epoch 4: 100%|██████████| 3334/3334 [00:14<00:00, 232.18it/s]\n",
            "Epoch 5: 100%|██████████| 3334/3334 [00:14<00:00, 232.39it/s]\n",
            "Epoch 6: 100%|██████████| 3334/3334 [00:14<00:00, 236.62it/s]\n",
            "Epoch 7: 100%|██████████| 3334/3334 [00:14<00:00, 238.03it/s]\n",
            "Epoch 8: 100%|██████████| 3334/3334 [00:14<00:00, 230.99it/s]\n",
            "Epoch 9: 100%|██████████| 3334/3334 [00:13<00:00, 239.11it/s]\n",
            "Epoch 10: 100%|██████████| 3334/3334 [00:13<00:00, 238.15it/s]\n",
            "Epoch 11: 100%|██████████| 3334/3334 [00:14<00:00, 236.49it/s]\n",
            "Epoch 12: 100%|██████████| 3334/3334 [00:13<00:00, 239.09it/s]\n",
            "Epoch 13: 100%|██████████| 3334/3334 [00:13<00:00, 238.26it/s]\n",
            "Epoch 14: 100%|██████████| 3334/3334 [00:13<00:00, 238.67it/s]\n",
            "Epoch 15: 100%|██████████| 3334/3334 [00:14<00:00, 233.64it/s]\n",
            "Epoch 16: 100%|██████████| 3334/3334 [00:13<00:00, 241.22it/s]\n",
            "Epoch 17: 100%|██████████| 3334/3334 [00:13<00:00, 239.90it/s]\n",
            "Epoch 18: 100%|██████████| 3334/3334 [00:14<00:00, 233.88it/s]\n",
            "Epoch 19: 100%|██████████| 3334/3334 [00:13<00:00, 239.65it/s]\n",
            "Epoch 20: 100%|██████████| 3334/3334 [00:13<00:00, 239.62it/s]\n"
          ]
        },
        {
          "output_type": "display_data",
          "data": {
            "text/plain": [
              "<Figure size 1200x500 with 2 Axes>"
            ],
            "image/png": "[encoded data removed]"
          },
          "metadata": {}
        }
      ]
    },
    {
      "cell_type": "code",
      "source": [
        "print(history)"
      ],
      "metadata": {
        "colab": {
          "base_uri": "https://localhost:8080/"
        },
        "id": "VxjDwwCZaZfW",
        "outputId": "274b5344-8d69-4003-a50c-b92c04687ddc"
      },
      "execution_count": 13,
      "outputs": [
        {
          "output_type": "stream",
          "name": "stdout",
          "text": [
            "{'train_loss': [0.0027746511099189437, 0.002310561514872675, 0.0019096795483164444, 0.0015689786639756281, 0.0012865295606805693, 0.001057152869092093, 0.0008772730116726769, 0.0007432988608927672, 0.0006466148133034703, 0.0005802751168534418, 0.0005365793644782718, 0.000508961144269555, 0.0004916983613896264, 0.00048122747095075564, 0.00047503213754064447, 0.00047129594911430315, 0.0004691042397424175, 0.0004678371289404305, 0.0004670739139676807, 0.0004666414358913822], 'val_loss': [0.010040209993002888, 0.008319195324268464, 0.006839525441319586, 0.005594403371963222, 0.004578918101808046, 0.0037663690229972836, 0.0031422112062568053, 0.002687673163522394, 0.0023698481584525912, 0.0021549857984357428, 0.002016858782034546, 0.0019309936004690094, 0.001878307728347094, 0.0018470863698601659, 0.0018281775042256775, 0.0018171876495902443, 0.0018107507553643716, 0.0018070745766365103, 0.0018048902065499837, 0.001803710565890546], 'mae': [2.629778541749616, 2.3531389498381876, 2.0905582004313845, 1.8519866091313122, 1.64196710249217, 1.461551688343501, 1.317226196864812, 1.2075774991255013, 1.1302106806414305, 1.0753618575972048, 1.0408427655268058, 1.0204154933385141, 1.0078959086244341, 1.0001892144445608, 0.995488456256098, 0.9926405474722243, 0.9909252447190044, 0.9899349775817469, 0.9893638758922366, 0.9890737925216162]}\n"
          ]
        }
      ]
    },
    {
      "cell_type": "code",
      "source": [
        "# нейросеть с реккурентно убывающим количеством выходных нейронов\n",
        "import torch\n",
        "from pytorch_lightning import seed_everything\n",
        "import torch.nn as nn\n",
        "from torch.utils.data import TensorDataset, DataLoader\n",
        "import torch.optim as optim\n",
        "from tqdm import tqdm\n",
        "import matplotlib.pyplot as plt\n",
        "import os\n",
        "\n",
        "\n",
        "class DeepCNN(nn.Module):\n",
        "    def __init__(self, hidden_size, dropout = 0.5):\n",
        "        super().__init__()\n",
        "\n",
        "        layers = []\n",
        "        for i in range(0, hidden_size):\n",
        "            layers.extend([\n",
        "                nn.Linear(hidden_size - i, hidden_size - i - 1),\n",
        "                nn.Tanh(),\n",
        "                nn.Dropout(dropout),\n",
        "                nn.LayerNorm(hidden_size - i - 1)\n",
        "            ])\n",
        "        self.net = nn.Sequential(*layers, nn.Linear(hidden_size - i - 1, 1))\n",
        "\n",
        "    def forward(self, x):\n",
        "\n",
        "        return self.net(x)\n",
        "\n",
        "# Задаем устройство, на котором будет происходить обучение\n",
        "\n",
        "device = torch.device(device)\n",
        "model = DeepCNN(hidden_size = 162).to(device)\n",
        "\n",
        "# Переводим датасеты в тензорный формат и загружаем в DataLoader\n",
        "\n",
        "x_train_tensor = torch.tensor(x_train.values, dtype=torch.float32).to('cpu')\n",
        "y_train_tensor = torch.tensor(y_train.values).to('cpu')  # For pandas Series\n",
        "\n",
        "x_test_tensor = torch.tensor(x_test.values, dtype = torch.float32).to('cpu')\n",
        "y_test_tensor = torch.tensor(y_test.values).to('cpu')\n",
        "x_test_tensor = torch.tensor(x_test.values, dtype = torch.float32).to('cpu')\n",
        "y_test_tensor = torch.tensor(y_test.values).to('cpu')\n",
        "\n",
        "train_dataset = TensorDataset(x_train_tensor, y_train_tensor)\n",
        "test_dataset = TensorDataset(x_test_tensor, y_test_tensor)\n",
        "\n",
        "train_loaded = DataLoader(train_dataset, batch_size = 1, shuffle = True, num_workers = 0, pin_memory = False)\n",
        "test_loaded = DataLoader(test_dataset, batch_size = 1, shuffle = False, num_workers = 0, pin_memory = False)\n",
        "\n",
        "criterion = nn.MSELoss()  # MSE для регрессии\n",
        "optimizer = optim.Adam(model.parameters(), lr = 0.0001) # Оптимизатор ADAM для градиента Back Propagation\n",
        "\n",
        "history = {'train_loss': [], 'val_loss': [], 'mae' : []}\n",
        "\n",
        "num_epochs = 20\n",
        "\n",
        "for epoch in range(num_epochs):\n",
        "    model.train()\n",
        "    running_loss = 0.0\n",
        "    correct = 0\n",
        "    total = 0\n",
        "\n",
        "    for inputs, values in tqdm(train_loaded, desc=f'Epoch {epoch+1}'):\n",
        "        inputs = inputs.to(device)\n",
        "        values = values.to(device)  # Метки как float для регрессии\n",
        "\n",
        "        optimizer.zero_grad()\n",
        "        outputs = model(inputs)\n",
        "        loss = criterion(outputs, values)\n",
        "        loss.backward()\n",
        "        optimizer.step()\n",
        "\n",
        "        running_loss += loss.item()\n",
        "\n",
        "    train_loss = running_loss / len(train_loaded)\n",
        "\n",
        "    # Валидация\n",
        "\n",
        "    model.eval()\n",
        "    val_loss = 0.0\n",
        "    total_mae = 0.0\n",
        "    best_loss = 0.8\n",
        "    with torch.no_grad():\n",
        "        for inputs, values in test_loaded:\n",
        "            inputs = inputs.to(device)\n",
        "            values = values.float().to(device)\n",
        "\n",
        "            outputs = model(inputs)\n",
        "            val_loss += criterion(outputs, values).item()\n",
        "            total_mae += torch.abs(outputs - values).sum().item()\n",
        "\n",
        "    val_loss /= len(test_loaded)\n",
        "    mae = total_mae / len(test_loaded.dataset)  # Средняя абсолютная ошибка\n",
        "\n",
        "    # Сохранение лучшей модели\n",
        "\n",
        "    if val_loss <= best_loss:\n",
        "        best_loss = val_loss\n",
        "        torch.save(model.state_dict(), 'best_MLPregressor.pth')\n",
        "\n",
        "    # Логирование\n",
        "\n",
        "    train_loss = train_loss / len(train_loaded.dataset)\n",
        "    val_loss = val_loss / len(test_loaded.dataset)\n",
        "\n",
        "    print(f'Epoch {epoch+1}/{num_epochs}, Train Loss: {train_loss:.4f}, Test Loss: {val_loss:.4f}, MAE: {mae}')\n",
        "\n",
        "    history['train_loss'].append(train_loss)\n",
        "    history['val_loss'].append(val_loss)\n",
        "    history['mae'].append(mae)\n",
        "\n",
        "plt.figure(figsize=(12, 5))\n",
        "plt.subplot(1, 2, 1)\n",
        "plt.plot(history['train_loss'], label='Train MSE')\n",
        "plt.plot(history['val_loss'], label='Val MSE')\n",
        "plt.legend()\n",
        "plt.title('MSE Loss')\n",
        "\n",
        "plt.subplot(1, 2, 2)\n",
        "plt.plot(history['mae'], color='red', label='MAE')\n",
        "plt.legend()\n",
        "plt.title('Mean Absolute Error')\n",
        "plt.savefig('Res_MLPRegression.png')"
      ],
      "metadata": {
        "id": "ShBfLnj_VaDT",
        "colab": {
          "base_uri": "https://localhost:8080/",
          "height": 1000
        },
        "outputId": "0c6c093b-7521-404a-d226-5315229a4c7e"
      },
      "execution_count": 12,
      "outputs": [
        {
          "output_type": "stream",
          "name": "stderr",
          "text": [
            "Epoch 1: 100%|██████████| 3334/3334 [03:32<00:00, 15.71it/s]\n"
          ]
        },
        {
          "output_type": "stream",
          "name": "stdout",
          "text": [
            "Epoch 1/20, Train Loss: 0.0028, Test Loss: 0.0100, MAE: 2.629778541749616\n"
          ]
        },
        {
          "output_type": "stream",
          "name": "stderr",
          "text": [
            "Epoch 2: 100%|██████████| 3334/3334 [03:31<00:00, 15.79it/s]\n"
          ]
        },
        {
          "output_type": "stream",
          "name": "stdout",
          "text": [
            "Epoch 2/20, Train Loss: 0.0023, Test Loss: 0.0083, MAE: 2.3531389498381876\n"
          ]
        },
        {
          "output_type": "stream",
          "name": "stderr",
          "text": [
            "Epoch 3: 100%|██████████| 3334/3334 [03:33<00:00, 15.64it/s]\n"
          ]
        },
        {
          "output_type": "stream",
          "name": "stdout",
          "text": [
            "Epoch 3/20, Train Loss: 0.0019, Test Loss: 0.0068, MAE: 2.0905582004313845\n"
          ]
        },
        {
          "output_type": "stream",
          "name": "stderr",
          "text": [
            "Epoch 4: 100%|██████████| 3334/3334 [03:41<00:00, 15.08it/s]\n"
          ]
        },
        {
          "output_type": "stream",
          "name": "stdout",
          "text": [
            "Epoch 4/20, Train Loss: 0.0016, Test Loss: 0.0056, MAE: 1.8519866091313122\n"
          ]
        },
        {
          "output_type": "stream",
          "name": "stderr",
          "text": [
            "Epoch 5: 100%|██████████| 3334/3334 [03:40<00:00, 15.14it/s]\n"
          ]
        },
        {
          "output_type": "stream",
          "name": "stdout",
          "text": [
            "Epoch 5/20, Train Loss: 0.0013, Test Loss: 0.0046, MAE: 1.64196710249217\n"
          ]
        },
        {
          "output_type": "stream",
          "name": "stderr",
          "text": [
            "Epoch 6: 100%|██████████| 3334/3334 [03:34<00:00, 15.56it/s]\n"
          ]
        },
        {
          "output_type": "stream",
          "name": "stdout",
          "text": [
            "Epoch 6/20, Train Loss: 0.0011, Test Loss: 0.0038, MAE: 1.461551688343501\n"
          ]
        },
        {
          "output_type": "stream",
          "name": "stderr",
          "text": [
            "Epoch 7: 100%|██████████| 3334/3334 [03:33<00:00, 15.58it/s]\n"
          ]
        },
        {
          "output_type": "stream",
          "name": "stdout",
          "text": [
            "Epoch 7/20, Train Loss: 0.0009, Test Loss: 0.0031, MAE: 1.317226196864812\n"
          ]
        },
        {
          "output_type": "stream",
          "name": "stderr",
          "text": [
            "Epoch 8: 100%|██████████| 3334/3334 [03:38<00:00, 15.26it/s]\n"
          ]
        },
        {
          "output_type": "stream",
          "name": "stdout",
          "text": [
            "Epoch 8/20, Train Loss: 0.0007, Test Loss: 0.0027, MAE: 1.2075774991255013\n"
          ]
        },
        {
          "output_type": "stream",
          "name": "stderr",
          "text": [
            "Epoch 9: 100%|██████████| 3334/3334 [03:33<00:00, 15.58it/s]\n"
          ]
        },
        {
          "output_type": "stream",
          "name": "stdout",
          "text": [
            "Epoch 9/20, Train Loss: 0.0006, Test Loss: 0.0024, MAE: 1.1302106806414305\n"
          ]
        },
        {
          "output_type": "stream",
          "name": "stderr",
          "text": [
            "Epoch 10: 100%|██████████| 3334/3334 [03:35<00:00, 15.45it/s]\n"
          ]
        },
        {
          "output_type": "stream",
          "name": "stdout",
          "text": [
            "Epoch 10/20, Train Loss: 0.0006, Test Loss: 0.0022, MAE: 1.0753618575972048\n"
          ]
        },
        {
          "output_type": "stream",
          "name": "stderr",
          "text": [
            "Epoch 11: 100%|██████████| 3334/3334 [03:40<00:00, 15.10it/s]\n"
          ]
        },
        {
          "output_type": "stream",
          "name": "stdout",
          "text": [
            "Epoch 11/20, Train Loss: 0.0005, Test Loss: 0.0020, MAE: 1.0408427655268058\n"
          ]
        },
        {
          "output_type": "stream",
          "name": "stderr",
          "text": [
            "Epoch 12: 100%|██████████| 3334/3334 [03:44<00:00, 14.83it/s]\n"
          ]
        },
        {
          "output_type": "stream",
          "name": "stdout",
          "text": [
            "Epoch 12/20, Train Loss: 0.0005, Test Loss: 0.0019, MAE: 1.0204154933385141\n"
          ]
        },
        {
          "output_type": "stream",
          "name": "stderr",
          "text": [
            "Epoch 13: 100%|██████████| 3334/3334 [03:41<00:00, 15.02it/s]\n"
          ]
        },
        {
          "output_type": "stream",
          "name": "stdout",
          "text": [
            "Epoch 13/20, Train Loss: 0.0005, Test Loss: 0.0019, MAE: 1.0078959086244341\n"
          ]
        },
        {
          "output_type": "stream",
          "name": "stderr",
          "text": [
            "Epoch 14: 100%|██████████| 3334/3334 [03:35<00:00, 15.50it/s]\n"
          ]
        },
        {
          "output_type": "stream",
          "name": "stdout",
          "text": [
            "Epoch 14/20, Train Loss: 0.0005, Test Loss: 0.0018, MAE: 1.0001892144445608\n"
          ]
        },
        {
          "output_type": "stream",
          "name": "stderr",
          "text": [
            "Epoch 15: 100%|██████████| 3334/3334 [03:32<00:00, 15.72it/s]\n"
          ]
        },
        {
          "output_type": "stream",
          "name": "stdout",
          "text": [
            "Epoch 15/20, Train Loss: 0.0005, Test Loss: 0.0018, MAE: 0.995488456256098\n"
          ]
        },
        {
          "output_type": "stream",
          "name": "stderr",
          "text": [
            "Epoch 16: 100%|██████████| 3334/3334 [03:33<00:00, 15.65it/s]\n"
          ]
        },
        {
          "output_type": "stream",
          "name": "stdout",
          "text": [
            "Epoch 16/20, Train Loss: 0.0005, Test Loss: 0.0018, MAE: 0.9926405474722243\n"
          ]
        },
        {
          "output_type": "stream",
          "name": "stderr",
          "text": [
            "Epoch 17: 100%|██████████| 3334/3334 [03:33<00:00, 15.59it/s]\n"
          ]
        },
        {
          "output_type": "stream",
          "name": "stdout",
          "text": [
            "Epoch 17/20, Train Loss: 0.0005, Test Loss: 0.0018, MAE: 0.9909252447190044\n"
          ]
        },
        {
          "output_type": "stream",
          "name": "stderr",
          "text": [
            "Epoch 18: 100%|██████████| 3334/3334 [03:36<00:00, 15.39it/s]\n"
          ]
        },
        {
          "output_type": "stream",
          "name": "stdout",
          "text": [
            "Epoch 18/20, Train Loss: 0.0005, Test Loss: 0.0018, MAE: 0.9899349775817469\n"
          ]
        },
        {
          "output_type": "stream",
          "name": "stderr",
          "text": [
            "Epoch 19: 100%|██████████| 3334/3334 [03:36<00:00, 15.42it/s]\n"
          ]
        },
        {
          "output_type": "stream",
          "name": "stdout",
          "text": [
            "Epoch 19/20, Train Loss: 0.0005, Test Loss: 0.0018, MAE: 0.9893638758922366\n"
          ]
        },
        {
          "output_type": "stream",
          "name": "stderr",
          "text": [
            "Epoch 20: 100%|██████████| 3334/3334 [03:36<00:00, 15.42it/s]\n"
          ]
        },
        {
          "output_type": "stream",
          "name": "stdout",
          "text": [
            "Epoch 20/20, Train Loss: 0.0005, Test Loss: 0.0018, MAE: 0.9890737925216162\n"
          ]
        },
        {
          "output_type": "display_data",
          "data": {
            "text/plain": [
              "<Figure size 1200x500 with 2 Axes>"
            ],
            "image/png": "[encoded data removed]"
          },
          "metadata": {}
        }
      ]
    },
    {
      "cell_type": "code",
      "source": [
        "# Сверточная нейросеть с реккурентно убывающим количеством выходных нейронов\n",
        "import torch\n",
        "from pytorch_lightning import seed_everything\n",
        "import torch.nn as nn\n",
        "from torch.utils.data import TensorDataset, DataLoader\n",
        "import torch.optim as optim\n",
        "from tqdm import tqdm\n",
        "import matplotlib.pyplot as plt\n",
        "import os\n",
        "\n",
        "\n",
        "import torch\n",
        "import torch.nn as nn\n",
        "\n",
        "class Flat1DCNN(nn.Module):\n",
        "    def __init__(self, in_channels=1, base_channels=32, out_size=1, dropout=0.3):\n",
        "        super().__init__()\n",
        "\n",
        "        self.net = nn.Sequential(\n",
        "\n",
        "\n",
        "\n",
        "            nn.Conv1d(in_channels, base_channels, kernel_size=5, padding=2),\n",
        "            nn.BatchNorm1d(base_channels),\n",
        "            nn.LeakyReLU(0.1),\n",
        "            nn.Dropout(dropout),\n",
        "\n",
        "\n",
        "            nn.Conv1d(base_channels, base_channels*2, kernel_size=3, padding=1),\n",
        "            nn.BatchNorm1d(base_channels*2),\n",
        "            nn.LeakyReLU(0.1),\n",
        "            nn.Dropout(dropout),\n",
        "\n",
        "\n",
        "            nn.Conv1d(base_channels*2, base_channels*4, kernel_size=3, padding=1),\n",
        "            nn.BatchNorm1d(base_channels*4),\n",
        "            nn.LeakyReLU(0.1),\n",
        "            nn.Dropout(dropout),\n",
        "\n",
        "\n",
        "            nn.AdaptiveAvgPool1d(1),\n",
        "\n",
        "\n",
        "            nn.Flatten(),\n",
        "            nn.Linear(base_channels*4, out_size)\n",
        "        )\n",
        "\n",
        "    def forward(self, x):\n",
        "\n",
        "        return self.net(x)\n",
        "\n",
        "# Задаем устройство, на котором будет происходить обучение\n",
        "\n",
        "device = torch.device(device)\n",
        "model = DeepCNN(hidden_size = 162).to(device)\n",
        "\n",
        "# Переводим датасеты в тензорный формат и загружаем в DataLoader\n",
        "\n",
        "x_train_tensor = torch.tensor(x_train.values, dtype=torch.float32).to('cpu')\n",
        "y_train_tensor = torch.tensor(y_train.values).to('cpu')\n",
        "\n",
        "x_test_tensor = torch.tensor(x_test.values, dtype = torch.float32).to('cpu')\n",
        "y_test_tensor = torch.tensor(y_test.values).to('cpu')\n",
        "x_test_tensor = torch.tensor(x_test.values, dtype = torch.float32).to('cpu')\n",
        "y_test_tensor = torch.tensor(y_test.values).to('cpu')\n",
        "\n",
        "train_dataset = TensorDataset(x_train_tensor, y_train_tensor)\n",
        "test_dataset = TensorDataset(x_test_tensor, y_test_tensor)\n",
        "\n",
        "train_loaded = DataLoader(train_dataset, batch_size = 1, shuffle = True, num_workers = 0, pin_memory = False)\n",
        "test_loaded = DataLoader(test_dataset, batch_size = 1, shuffle = False, num_workers = 0, pin_memory = False)\n",
        "\n",
        "criterion = nn.MSELoss()  # MSE для регрессии\n",
        "optimizer = optim.SGD(\n",
        "    model.parameters(),\n",
        "    lr=0.01,\n",
        "    momentum=0.8,\n",
        "    weight_decay=0.001,\n",
        "    nesterov=True\n",
        ")\n",
        "\n",
        "history = {'train_loss': [], 'val_loss': [], 'mae' : []}\n",
        "\n",
        "num_epochs = 5\n",
        "\n",
        "for epoch in range(num_epochs):\n",
        "    model.train()\n",
        "    running_loss = 0.0\n",
        "    correct = 0\n",
        "    total = 0\n",
        "\n",
        "    for inputs, values in tqdm(train_loaded, desc=f'Epoch {epoch+1}'):\n",
        "        inputs = inputs.to(device)\n",
        "        values = values.to(device)\n",
        "\n",
        "        optimizer.zero_grad()\n",
        "        outputs = model(inputs)\n",
        "        loss = criterion(outputs, values)\n",
        "        loss.backward()\n",
        "        optimizer.step()\n",
        "\n",
        "        running_loss += loss.item()\n",
        "\n",
        "    train_loss = running_loss / len(train_loaded)\n",
        "\n",
        "    # Валидация\n",
        "\n",
        "    model.eval()\n",
        "    val_loss = 0.0\n",
        "    total_mae = 0.0\n",
        "\n",
        "    with torch.no_grad():\n",
        "      for inputs, values in test_loaded:\n",
        "\n",
        "        inputs = inputs.to(device)\n",
        "        values = values.float().to(device)\n",
        "\n",
        "        outputs = model(inputs)\n",
        "\n",
        "\n",
        "        val_loss += criterion(outputs, values).item() * inputs.size(0)\n",
        "\n",
        "        total_mae += torch.abs(outputs - values).sum().item()\n",
        "\n",
        "\n",
        "    val_loss /= len(test_loaded.dataset)\n",
        "    mae = total_mae / len(test_loaded.dataset)\n",
        "\n",
        "    # Сохранение лучшей модели\n",
        "\n",
        "    if val_loss <= best_loss:\n",
        "        best_loss = val_loss\n",
        "        torch.save(model.state_dict(), 'best_CNNregressor.pth')\n",
        "\n",
        "    # Логирование\n",
        "\n",
        "    train_loss = train_loss / len(train_loaded.dataset)\n",
        "    val_loss = val_loss / len(test_loaded.dataset)\n",
        "\n",
        "    print(f'Epoch {epoch+1}/{num_epochs}, Train Loss: {train_loss:.4f}, Test Loss: {val_loss:.4f}, MAE: {mae}')\n",
        "\n",
        "    history['train_loss'].append(train_loss)\n",
        "    history['val_loss'].append(val_loss)\n",
        "    history['mae'].append(mae)\n",
        "\n",
        "plt.figure(figsize=(12, 5))\n",
        "plt.subplot(1, 2, 1)\n",
        "plt.plot(history['train_loss'], label='Train MSE')\n",
        "plt.plot(history['val_loss'], label='Val MSE')\n",
        "plt.legend()\n",
        "plt.title('MSE Loss')\n",
        "\n",
        "plt.subplot(1, 2, 2)\n",
        "plt.plot(history['mae'], color='red', label='MAE')\n",
        "plt.legend()\n",
        "plt.title('Mean Absolute Error')\n",
        "plt.savefig('Res_CNNRegression.png')"
      ],
      "metadata": {
        "colab": {
          "base_uri": "https://localhost:8080/",
          "height": 731
        },
        "id": "_DL_DXdrpVtr",
        "outputId": "8cbc8e7c-2a17-489a-dec4-752bc8807cf8"
      },
      "execution_count": 23,
      "outputs": [
        {
          "output_type": "stream",
          "name": "stderr",
          "text": [
            "/usr/local/lib/python3.11/dist-packages/torch/nn/init.py:511: UserWarning: Initializing zero-element tensors is a no-op\n",
            "  warnings.warn(\"Initializing zero-element tensors is a no-op\")\n",
            "Epoch 1:   0%|          | 0/3334 [00:00<?, ?it/s]/usr/local/lib/python3.11/dist-packages/torch/nn/modules/loss.py:610: UserWarning: Using a target size (torch.Size([1])) that is different to the input size (torch.Size([1, 1])). This will likely lead to incorrect results due to broadcasting. Please ensure they have the same size.\n",
            "  return F.mse_loss(input, target, reduction=self.reduction)\n",
            "Epoch 1: 100%|██████████| 3334/3334 [03:59<00:00, 13.95it/s]\n"
          ]
        },
        {
          "output_type": "stream",
          "name": "stdout",
          "text": [
            "Epoch 1/5, Train Loss: 0.0005, Test Loss: 0.0019, MAE: 1.0151383525176014\n"
          ]
        },
        {
          "output_type": "stream",
          "name": "stderr",
          "text": [
            "Epoch 2: 100%|██████████| 3334/3334 [03:51<00:00, 14.39it/s]\n"
          ]
        },
        {
          "output_type": "stream",
          "name": "stdout",
          "text": [
            "Epoch 2/5, Train Loss: 0.0005, Test Loss: 0.0018, MAE: 0.9964704217670632\n"
          ]
        },
        {
          "output_type": "stream",
          "name": "stderr",
          "text": [
            "Epoch 3: 100%|██████████| 3334/3334 [03:50<00:00, 14.47it/s]\n"
          ]
        },
        {
          "output_type": "stream",
          "name": "stdout",
          "text": [
            "Epoch 3/5, Train Loss: 0.0005, Test Loss: 0.0018, MAE: 0.9961449581084492\n"
          ]
        },
        {
          "output_type": "stream",
          "name": "stderr",
          "text": [
            "Epoch 4: 100%|██████████| 3334/3334 [03:48<00:00, 14.61it/s]\n"
          ]
        },
        {
          "output_type": "stream",
          "name": "stdout",
          "text": [
            "Epoch 4/5, Train Loss: 0.0005, Test Loss: 0.0018, MAE: 0.9977363083574126\n"
          ]
        },
        {
          "output_type": "stream",
          "name": "stderr",
          "text": [
            "Epoch 5: 100%|██████████| 3334/3334 [03:52<00:00, 14.37it/s]\n"
          ]
        },
        {
          "output_type": "stream",
          "name": "stdout",
          "text": [
            "Epoch 5/5, Train Loss: 0.0005, Test Loss: 0.0018, MAE: 0.9947116816644188\n"
          ]
        },
        {
          "output_type": "display_data",
          "data": {
            "text/plain": [
              "<Figure size 1200x500 with 2 Axes>"
            ],
            "image/png": "[encoded data removed]"
          },
          "metadata": {}
        }
      ]
    }
  ]
}